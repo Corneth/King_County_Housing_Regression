{
 "cells": [
  {
   "cell_type": "markdown",
   "metadata": {},
   "source": [
    "# Mapping King County Homes by Budget With Arcgis "
   ]
  },
  {
   "cell_type": "code",
   "execution_count": 1,
   "metadata": {},
   "outputs": [],
   "source": [
    "import arcgis\n",
    "import pandas as pd\n",
    "import numpy as np\n",
    "import seaborn as sns\n",
    "import matplotlib.pyplot as plt"
   ]
  },
  {
   "cell_type": "code",
   "execution_count": 2,
   "metadata": {},
   "outputs": [],
   "source": [
    "from arcgis import *\n",
    "from arcgis.features import GeoAccessor,GeoSeriesAccessor\n",
    "from arcgis.mapping import WebMap\n",
    "from IPython.display import display"
   ]
  },
  {
   "cell_type": "markdown",
   "metadata": {},
   "source": [
    "After we load up our libraries, the first step is to import our data. We can also drop columns that we won't be including. "
   ]
  },
  {
   "cell_type": "code",
   "execution_count": 3,
   "metadata": {},
   "outputs": [],
   "source": [
    "df = pd.read_csv('kc_data.csv')\n",
    "df = df.drop(['id','date', 'waterfront', 'view','condition', 'grade', 'sqft_above', \n",
    "              'sqft_basement', 'yr_built', 'yr_renovated', 'sqft_living15','sqft_lot15'],1)"
   ]
  },
  {
   "cell_type": "markdown",
   "metadata": {},
   "source": [
    "Next, we split our data up into our budgets. In total there are five maps, our four budgets, and one you can set a maximum budet for yourself.  "
   ]
  },
  {
   "cell_type": "code",
   "execution_count": 4,
   "metadata": {},
   "outputs": [],
   "source": [
    "lowtier = df[(df.price >= 210000) & (df.price <= 348000) ].copy()\n",
    "midtier = df[(df.price >= 348000) & (df.price <= 480000) ].copy()\n",
    "uppermidtier = df[(df.price >= 480000) & (df.price <= 640000) ].copy()\n",
    "hightier = df[(df.price >= 640000) & (df.price <= 900000)].copy()"
   ]
  },
  {
   "cell_type": "code",
   "execution_count": 5,
   "metadata": {},
   "outputs": [],
   "source": [
    "# log into GIS\n",
    "gis = GIS(\"http://www.arcgis.com/\", \"shadowsword_0\",\"Acidblade1\")"
   ]
  },
  {
   "cell_type": "markdown",
   "metadata": {},
   "source": [
    "Then, we find and choose what additional features we would like to get data from & plot on our map"
   ]
  },
  {
   "cell_type": "code",
   "execution_count": 6,
   "metadata": {},
   "outputs": [],
   "source": [
    "def gis_content():\n",
    "    item = gis.content.get('ff9e4774ee8641f48cccac97dca753db#data')\n",
    "    food = item.layers[0]\n",
    "    item = gis.content.get('3f263039314d44cc93384fe1f4229796#data')\n",
    "    flayer = item.layers[0]\n",
    "    public = flayer.query(where = \"ZIPCODE > 0\")\n",
    "    item = gis.content.get('d4a439bcf5d54e5f80cde3285d0cf3cd')\n",
    "    dataset = item.layers[0]\n",
    "    item = gis.content.get('175728366bb24060904323678963c60e')\n",
    "    flayer = item.layers[0]\n",
    "    private = flayer.query()\n",
    "    return (private,public,food) "
   ]
  },
  {
   "cell_type": "markdown",
   "metadata": {},
   "source": [
    "Now, let's do some mapping! "
   ]
  },
  {
   "cell_type": "code",
   "execution_count": 7,
   "metadata": {},
   "outputs": [],
   "source": [
    "def mapping(budget_df):\n",
    "    \"\"\"Pass in a dataframe to get a map of King County where all of the homes have been plotted, \n",
    "    should you want to see schools, please answer yes on input.\"\"\"\n",
    "    #bring in our features \n",
    "    private,public,food = gis_content()\n",
    "    #set up our map \n",
    "    stc_map = gis.map('Seattle, WA')\n",
    "    #choose map base & bring in our king county data \n",
    "    stc_map.basemap = 'dark-gray-vector'\n",
    "    data_sdf = pd.DataFrame.spatial.from_xy(budget_df, 'long','lat')\n",
    "    #set our markers and other settings \n",
    "    data_sdf.spatial.plot(map_widget=stc_map, renderer_type = \"c\", marker_size = 5,\n",
    "                          symbol_type = 'simple', symbol_style='d',\n",
    "                          title='Pricing of houses',\n",
    "                          col='price', \n",
    "                          cmap ='summer',\n",
    "                          renderer = 'ClassedSizeRenderer',\n",
    "                          alpha=0.7)\n",
    "    #add food and grocery stores \n",
    "    stc_map.add_layer(food)\n",
    "    #set up input question & add schools layers to dataframe if chosen \n",
    "    schools = input('Are you interested in schools? ')\n",
    "    if (schools == 'Yes') or (schools == 'yes') and (budget_df is not None):\n",
    "        interest = input('Private school, Public schools, or Both? ')\n",
    "        if (interest =='Private') or (interest =='private'):\n",
    "            stc_map.add_layer(private)\n",
    "        elif(interest =='Public') or (interest == 'public'):\n",
    "            stc_map.add_layer(public)       \n",
    "        elif(interest =='Both') or (interest == 'both'):\n",
    "            stc_map.add_layer(private)\n",
    "            stc_map.add_layer(public)   \n",
    "        else:\n",
    "            None\n",
    "    elif (schools == 'No') or (schools == 'no') and (budget_df is not None):\n",
    "        None\n",
    "    else: \n",
    "        print('Please enter yes or no.')\n",
    "    display(stc_map)"
   ]
  },
  {
   "cell_type": "code",
   "execution_count": 9,
   "metadata": {
    "scrolled": true
   },
   "outputs": [
    {
     "ename": "UnboundLocalError",
     "evalue": "local variable 'item' referenced before assignment",
     "output_type": "error",
     "traceback": [
      "\u001b[1;31m---------------------------------------------------------------------------\u001b[0m",
      "\u001b[1;31mUnboundLocalError\u001b[0m                         Traceback (most recent call last)",
      "\u001b[1;32m<ipython-input-9-242886ce5ec4>\u001b[0m in \u001b[0;36m<module>\u001b[1;34m\u001b[0m\n\u001b[1;32m----> 1\u001b[1;33m \u001b[0mmapping\u001b[0m\u001b[1;33m(\u001b[0m\u001b[0mdf\u001b[0m\u001b[1;33m)\u001b[0m\u001b[1;33m\u001b[0m\u001b[1;33m\u001b[0m\u001b[0m\n\u001b[0m",
      "\u001b[1;32m<ipython-input-7-c8e03025d2d5>\u001b[0m in \u001b[0;36mmapping\u001b[1;34m(budget_df)\u001b[0m\n\u001b[0;32m      3\u001b[0m     should you want to see schools, please answer yes on input.\"\"\"\n\u001b[0;32m      4\u001b[0m     \u001b[1;31m#bring in our features\u001b[0m\u001b[1;33m\u001b[0m\u001b[1;33m\u001b[0m\u001b[1;33m\u001b[0m\u001b[0m\n\u001b[1;32m----> 5\u001b[1;33m     \u001b[0mprivate\u001b[0m\u001b[1;33m,\u001b[0m\u001b[0mpublic\u001b[0m\u001b[1;33m,\u001b[0m\u001b[0mfood\u001b[0m \u001b[1;33m=\u001b[0m \u001b[0mgis_content\u001b[0m\u001b[1;33m(\u001b[0m\u001b[1;33m)\u001b[0m\u001b[1;33m\u001b[0m\u001b[1;33m\u001b[0m\u001b[0m\n\u001b[0m\u001b[0;32m      6\u001b[0m     \u001b[1;31m#set up our map\u001b[0m\u001b[1;33m\u001b[0m\u001b[1;33m\u001b[0m\u001b[1;33m\u001b[0m\u001b[0m\n\u001b[0;32m      7\u001b[0m     \u001b[0mstc_map\u001b[0m \u001b[1;33m=\u001b[0m \u001b[0mgis\u001b[0m\u001b[1;33m.\u001b[0m\u001b[0mmap\u001b[0m\u001b[1;33m(\u001b[0m\u001b[1;34m'Seattle, WA'\u001b[0m\u001b[1;33m)\u001b[0m\u001b[1;33m\u001b[0m\u001b[1;33m\u001b[0m\u001b[0m\n",
      "\u001b[1;32m<ipython-input-6-d56af27d046a>\u001b[0m in \u001b[0;36mgis_content\u001b[1;34m()\u001b[0m\n\u001b[0;32m      1\u001b[0m \u001b[1;32mdef\u001b[0m \u001b[0mgis_content\u001b[0m\u001b[1;33m(\u001b[0m\u001b[1;33m)\u001b[0m\u001b[1;33m:\u001b[0m\u001b[1;33m\u001b[0m\u001b[1;33m\u001b[0m\u001b[0m\n\u001b[1;32m----> 2\u001b[1;33m     \u001b[0mflayer\u001b[0m \u001b[1;33m=\u001b[0m \u001b[0mitem\u001b[0m\u001b[1;33m.\u001b[0m\u001b[0mlayers\u001b[0m\u001b[1;33m[\u001b[0m\u001b[1;36m0\u001b[0m\u001b[1;33m]\u001b[0m\u001b[1;33m\u001b[0m\u001b[1;33m\u001b[0m\u001b[0m\n\u001b[0m\u001b[0;32m      3\u001b[0m     \u001b[0mitem\u001b[0m \u001b[1;33m=\u001b[0m \u001b[0mgis\u001b[0m\u001b[1;33m.\u001b[0m\u001b[0mcontent\u001b[0m\u001b[1;33m.\u001b[0m\u001b[0mget\u001b[0m\u001b[1;33m(\u001b[0m\u001b[1;34m'ff9e4774ee8641f48cccac97dca753db#data'\u001b[0m\u001b[1;33m)\u001b[0m\u001b[1;33m\u001b[0m\u001b[1;33m\u001b[0m\u001b[0m\n\u001b[0;32m      4\u001b[0m     \u001b[0mfood\u001b[0m \u001b[1;33m=\u001b[0m \u001b[0mitem\u001b[0m\u001b[1;33m.\u001b[0m\u001b[0mlayers\u001b[0m\u001b[1;33m[\u001b[0m\u001b[1;36m0\u001b[0m\u001b[1;33m]\u001b[0m\u001b[1;33m\u001b[0m\u001b[1;33m\u001b[0m\u001b[0m\n\u001b[0;32m      5\u001b[0m     \u001b[0mitem\u001b[0m \u001b[1;33m=\u001b[0m \u001b[0mgis\u001b[0m\u001b[1;33m.\u001b[0m\u001b[0mcontent\u001b[0m\u001b[1;33m.\u001b[0m\u001b[0mget\u001b[0m\u001b[1;33m(\u001b[0m\u001b[1;34m'3f263039314d44cc93384fe1f4229796#data'\u001b[0m\u001b[1;33m)\u001b[0m\u001b[1;33m\u001b[0m\u001b[1;33m\u001b[0m\u001b[0m\n",
      "\u001b[1;31mUnboundLocalError\u001b[0m: local variable 'item' referenced before assignment"
     ]
    }
   ],
   "source": [
    "mapping(df)"
   ]
  },
  {
   "cell_type": "code",
   "execution_count": null,
   "metadata": {},
   "outputs": [],
   "source": [
    "mapping(lowtier)"
   ]
  },
  {
   "cell_type": "code",
   "execution_count": null,
   "metadata": {},
   "outputs": [],
   "source": [
    "mapping(midtier)"
   ]
  },
  {
   "cell_type": "code",
   "execution_count": null,
   "metadata": {},
   "outputs": [],
   "source": [
    "mapping(uppermidtier)"
   ]
  }
 ],
 "metadata": {
  "kernelspec": {
   "display_name": "Python 3",
   "language": "python",
   "name": "python3"
  },
  "language_info": {
   "codemirror_mode": {
    "name": "ipython",
    "version": 3
   },
   "file_extension": ".py",
   "mimetype": "text/x-python",
   "name": "python",
   "nbconvert_exporter": "python",
   "pygments_lexer": "ipython3",
   "version": "3.8.5"
  }
 },
 "nbformat": 4,
 "nbformat_minor": 4
}
